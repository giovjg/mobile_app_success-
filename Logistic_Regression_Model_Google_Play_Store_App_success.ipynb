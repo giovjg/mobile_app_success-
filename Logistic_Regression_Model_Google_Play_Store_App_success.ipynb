{
 "cells": [
  {
   "cell_type": "markdown",
   "metadata": {
    "colab_type": "text",
    "id": "klhyEzyzeo_L"
   },
   "source": [
    "# Classification problem"
   ]
  },
  {
   "cell_type": "markdown",
   "metadata": {
    "colab": {
     "base_uri": "https://localhost:8080/",
     "height": 122
    },
    "colab_type": "code",
    "id": "DNKpVcbceo_R",
    "outputId": "ee772cd8-002b-4fcd-c6aa-dd7f762a36b0"
   },
   "source": [
    "# Research question: \n",
    "Can you predict an App success based on its features from Google Play Store (success is defined as having a mean rating above 4.2 and at least 100 000 installs). Data set from Kaggel(web scraping).\n",
    "https://www.kaggle.com/lava18/google-play-store-apps\n",
    "Method: Logistic regression model"
   ]
  },
  {
   "cell_type": "code",
   "execution_count": null,
   "metadata": {},
   "outputs": [],
   "source": [
    "#Importing the packages \n",
    "import datetime\n",
    "import pandas as pd\n",
    "import numpy as np\n",
    "import seaborn as sns\n",
    "import matplotlib.pyplot as plt\n",
    "from sklearn.linear_model import LogisticRegression\n",
    "from sklearn.model_selection import GridSearchCV\n",
    "from sklearn.model_selection import train_test_split\n",
    "from sklearn.metrics import classification_report\n",
    "from sklearn.metrics import confusion_matrix\n",
    "from sklearn.metrics import roc_curve, auc, roc_auc_score\n",
    "from sklearn.metrics import log_loss\n",
    "from sklearn.metrics import precision_recall_curve\n",
    "from sklearn import metrics\n",
    "\n",
    "# Hide deprecated warnings\n",
    "import warnings\n",
    "warnings.filterwarnings('ignore')\n",
    "\n",
    "# Mount local files\n",
    "from google.colab import drive\n",
    "drive.mount('/gdrive')"
   ]
  },
  {
   "cell_type": "markdown",
   "metadata": {
    "colab_type": "text",
    "id": "m0hbdBAFeo_e"
   },
   "source": [
    "## Load the data"
   ]
  },
  {
   "cell_type": "code",
   "execution_count": null,
   "metadata": {
    "colab": {},
    "colab_type": "code",
    "id": "ZK4R3hY6i0pz"
   },
   "outputs": [],
   "source": [
    "#importing the data\n",
    "fv=pd.read_csv(\"/gdrive/My Drive/AI/CURRICULUM/Giovanna/170619/170619final_feature_vector.csv\")"
   ]
  },
  {
   "cell_type": "code",
   "execution_count": null,
   "metadata": {
    "colab": {},
    "colab_type": "code",
    "id": "gA1u58VVqQnZ"
   },
   "outputs": [],
   "source": [
    "# Discard groups of features to see how the model behaves and which features were kept as relevant to predict success\n",
    "# developer_relevant_fv = [i for i in fv.columns.tolist() if (i[:8] != 'Category' and i[:4] != 'year' and i[:5] != 'month')]\n",
    "# non_category_features = [i for i in fv.columns.tolist() if i[:8] != 'Category']\n",
    "# non_year_features = [i for i in fv.columns.tolist() if i[:8] != 'Category']\n",
    "# fv = fv[developer_relevant_fv]"
   ]
  },
  {
   "cell_type": "code",
   "execution_count": null,
   "metadata": {
    "colab": {
     "base_uri": "https://localhost:8080/",
     "height": 34
    },
    "colab_type": "code",
    "id": "LcZvWzFgeo_o",
    "outputId": "11bc27e8-95a8-48e9-dfa9-082fe1b40827"
   },
   "outputs": [],
   "source": [
    "fv.shape"
   ]
  },
  {
   "cell_type": "code",
   "execution_count": null,
   "metadata": {
    "colab": {
     "base_uri": "https://localhost:8080/",
     "height": 459
    },
    "colab_type": "code",
    "id": "ts26bYthi0p-",
    "outputId": "795d3a2e-f746-40fb-ba54-c7a1ab100ef3"
   },
   "outputs": [],
   "source": [
    "fv.columns"
   ]
  },
  {
   "cell_type": "markdown",
   "metadata": {
    "colab_type": "text",
    "id": "9riT2ADWeo_1"
   },
   "source": [
    "## Train/Test Split"
   ]
  },
  {
   "cell_type": "code",
   "execution_count": null,
   "metadata": {
    "colab": {},
    "colab_type": "code",
    "id": "1MPs5vf5eo_3"
   },
   "outputs": [],
   "source": [
    "X = fv.drop(['Successful_App'], axis=1)\n",
    "y = fv['Successful_App']\n",
    "\n",
    "X_train, X_test, y_train, y_test = train_test_split(X, y, test_size=0.2, random_state=42)"
   ]
  },
  {
   "cell_type": "markdown",
   "metadata": {
    "colab_type": "text",
    "id": "lRM0qtqVeo__"
   },
   "source": [
    "## Logistic Regression - Grid Search & Cross Validation\n",
    "\n",
    "See the list of scoring functions [here](https://scikit-learn.org/stable/modules/model_evaluation.html#scoring-parameter)"
   ]
  },
  {
   "cell_type": "code",
   "execution_count": null,
   "metadata": {
    "colab": {},
    "colab_type": "code",
    "id": "6e1vQxuuepAB"
   },
   "outputs": [],
   "source": [
    "# Initialize the model\n",
    "logistic = LogisticRegression()\n",
    "\n",
    "# Define the values of the hyperparameters to optimize\n",
    "penalty = ['l1']\n",
    "C=[0.1, 0.2, 0.4, 0.6, 0.8, 1] # C = 1/λ\n",
    "solver=['liblinear', 'saga']\n",
    "hyperparameters = dict(penalty=penalty, C=C, solver=solver)\n",
    "\n",
    "# Initialize GridSearch/Cross-validation\n",
    "clf = GridSearchCV(logistic, hyperparameters, cv=5, scoring='accuracy')\n",
    "\n",
    "# Run the optimization\n",
    "best_model = clf.fit(X_train, y_train)"
   ]
  },
  {
   "cell_type": "code",
   "execution_count": null,
   "metadata": {
    "colab": {
     "base_uri": "https://localhost:8080/",
     "height": 1105
    },
    "colab_type": "code",
    "id": "B7g1X8NJepAH",
    "outputId": "fcecf872-8746-4282-cbff-a1be40d52b66"
   },
   "outputs": [],
   "source": [
    "# Results\n",
    "best_model.cv_results_"
   ]
  },
  {
   "cell_type": "code",
   "execution_count": null,
   "metadata": {
    "colab": {
     "base_uri": "https://localhost:8080/",
     "height": 34
    },
    "colab_type": "code",
    "id": "GRIQY0IpepAW",
    "outputId": "9fbe9740-21c4-4ec8-9a2d-ac9a9e443d77"
   },
   "outputs": [],
   "source": [
    "# Set of hyperparameters from the model that perform the best on average from all cross validations\n",
    "best_model.best_params_"
   ]
  },
  {
   "cell_type": "code",
   "execution_count": null,
   "metadata": {
    "colab": {
     "base_uri": "https://localhost:8080/",
     "height": 34
    },
    "colab_type": "code",
    "id": "c7FlsLuIepAk",
    "outputId": "fe8a377e-6bc4-46ba-840e-28bf342fe277"
   },
   "outputs": [],
   "source": [
    "# Average value for the metric for the model evaluation in the best set of hyperparameters\n",
    "best_model.best_score_"
   ]
  },
  {
   "cell_type": "markdown",
   "metadata": {
    "colab_type": "text",
    "id": "_AzbeZWYepA0"
   },
   "source": [
    "### Extract factors that are relevant after regularization and store them for analysis"
   ]
  },
  {
   "cell_type": "code",
   "execution_count": null,
   "metadata": {
    "colab": {},
    "colab_type": "code",
    "id": "gARhxJZ5epA3"
   },
   "outputs": [],
   "source": [
    "# Save best regularized coefficients for logistic regression analysis\n",
    "logistic = LogisticRegression(penalty='l1', C=0.4, solver='liblinear')\n",
    "logistic.fit(X_train, y_train)\n",
    "coefficients = pd.DataFrame({'features': X_train.columns, 'coefficients': logistic.coef_[0]})\n",
    "coefficients.to_csv(\"logistic_regularization_coefficients.csv\", index=False, encoding='utf-8')"
   ]
  },
  {
   "cell_type": "code",
   "execution_count": null,
   "metadata": {
    "colab": {
     "base_uri": "https://localhost:8080/",
     "height": 283
    },
    "colab_type": "code",
    "id": "Ik8V0HYkepA-",
    "outputId": "b54ddbd0-e039-4ca7-87ab-21a3c3ab9b73"
   },
   "outputs": [],
   "source": [
    "relevance_factors = coefficients[coefficients['coefficients']>0].sort_values(by='coefficients')\n",
    "_=sns.barplot(x='coefficients', y='features', data=relevance_factors, color='blue')"
   ]
  },
  {
   "cell_type": "markdown",
   "metadata": {
    "colab_type": "text",
    "id": "Rd-NVRRwepBJ"
   },
   "source": [
    "#### Visualize the results of hyperparameter optimization grid search"
   ]
  },
  {
   "cell_type": "code",
   "execution_count": null,
   "metadata": {
    "colab": {},
    "colab_type": "code",
    "id": "C1WkdOJjepBM"
   },
   "outputs": [],
   "source": [
    "params = best_model.cv_results_['params']\n",
    "#train_scores = best_model.cv_results_['mean_train_score']\n",
    "test_scores = best_model.cv_results_['mean_test_score']\n",
    "times = best_model.cv_results_['mean_fit_time']\n",
    "\n",
    "GS_performance = pd.DataFrame({'C': [i['C'] for i in params],\n",
    "                                 'solver': [i['solver'] for i in params],\n",
    "#                                 'train_score': train_scores,\n",
    "                                 'test_score': test_scores,\n",
    "                                 'fit_time': times})"
   ]
  },
  {
   "cell_type": "code",
   "execution_count": null,
   "metadata": {
    "colab": {},
    "colab_type": "code",
    "id": "R8J8jvgHepBS"
   },
   "outputs": [],
   "source": [
    "# _=sns.heatmap(GS_performance[['C','solver','train_score']].pivot_table(values='train_score', index='C', \n",
    "#                           columns='solver'), annot=True, fmt='.10f', cmap='Blues')\n",
    "# _=plt.title(\"Performance on the model based on hyperparmeters with the train set\")"
   ]
  },
  {
   "cell_type": "code",
   "execution_count": null,
   "metadata": {
    "colab": {
     "base_uri": "https://localhost:8080/",
     "height": 295
    },
    "colab_type": "code",
    "id": "-1aS4Oy-epBa",
    "outputId": "45e85f4b-e035-42aa-f576-b31dec71bc38"
   },
   "outputs": [],
   "source": [
    "_=sns.heatmap(GS_performance[['C','solver','test_score']].pivot_table(values='test_score', index='C', \n",
    "                          columns='solver'), annot=True, fmt='.10f', cmap='Blues')\n",
    "_=plt.title(\"Performance on the model based on hyperparmeters with the test set\")"
   ]
  },
  {
   "cell_type": "code",
   "execution_count": null,
   "metadata": {
    "colab": {
     "base_uri": "https://localhost:8080/",
     "height": 295
    },
    "colab_type": "code",
    "id": "F3de5mvvepBj",
    "outputId": "aa0320d2-067c-4773-b1d3-2866a8f61b9c"
   },
   "outputs": [],
   "source": [
    "_=sns.heatmap(GS_performance[['C','solver','fit_time']].pivot_table(values='fit_time', index='C', columns='solver'),\n",
    "             annot=True, fmt='.6f', cmap='Blues')\n",
    "_=plt.title(\"Performance on the model based on fit_time\")"
   ]
  },
  {
   "cell_type": "markdown",
   "metadata": {
    "colab_type": "text",
    "id": "oP7oENztepBs"
   },
   "source": [
    "## Logistic Regression trained - Final value of the cross entropy (loss function)\n",
    "\n",
    "**It requires the predicted probability of the class being class 1!!**\n",
    "\n",
    "```-log P(yt|yp) = -(yt log(yp) + (1 - yt) log(1 - yp))```"
   ]
  },
  {
   "cell_type": "code",
   "execution_count": null,
   "metadata": {
    "colab": {},
    "colab_type": "code",
    "id": "_N_PNGvjepBy"
   },
   "outputs": [],
   "source": [
    "# Use only the training set to calculate it\n",
    "y_pred_train = best_model.predict_proba(X_train)\n",
    "y_pred_test = best_model.predict_proba(X_test)\n",
    "\n",
    "# Calculate cross entropy of true vs predict\n",
    "cross_entropy_train = log_loss(y_train, y_pred_train)\n",
    "cross_entropy_test = log_loss(y_test, y_pred_test)"
   ]
  },
  {
   "cell_type": "code",
   "execution_count": null,
   "metadata": {
    "colab": {
     "base_uri": "https://localhost:8080/",
     "height": 51
    },
    "colab_type": "code",
    "id": "f_41RDOWepB7",
    "outputId": "321aa15c-d036-461d-c1a5-5984673811f1"
   },
   "outputs": [],
   "source": [
    "print(\"The logistic regression was optimized until reaching a loss of {:.2f} with the trainig set.\\nThe model has a cross entropy value of {:.2f} when using test data.\".format(cross_entropy_train, cross_entropy_test))"
   ]
  },
  {
   "cell_type": "code",
   "execution_count": null,
   "metadata": {
    "colab": {},
    "colab_type": "code",
    "id": "UC4prV9iepCK"
   },
   "outputs": [],
   "source": [
    "# Predict if the interviewed people in the test set are taking treatment of not\n",
    "y_pred = best_model.predict(X_test)"
   ]
  },
  {
   "cell_type": "markdown",
   "metadata": {
    "colab_type": "text",
    "id": "-z9kEl6YepCT"
   },
   "source": [
    "## Logistic Regression - Best Model Evaluation"
   ]
  },
  {
   "cell_type": "markdown",
   "metadata": {
    "colab_type": "text",
    "id": "kRCze3woepCU"
   },
   "source": [
    "![precision_recall](prec_recall.png \"Title\")"
   ]
  },
  {
   "cell_type": "code",
   "execution_count": null,
   "metadata": {
    "colab": {
     "base_uri": "https://localhost:8080/",
     "height": 170
    },
    "colab_type": "code",
    "id": "vMNvQlEgepCW",
    "outputId": "8199a801-3857-4283-b0d2-d87f63311ab9"
   },
   "outputs": [],
   "source": [
    "print(classification_report(y_test, y_pred))"
   ]
  },
  {
   "cell_type": "code",
   "execution_count": null,
   "metadata": {
    "colab": {
     "base_uri": "https://localhost:8080/",
     "height": 295
    },
    "colab_type": "code",
    "id": "t6sCbAR9epCk",
    "outputId": "b442c500-c1f9-4805-dc42-1a1812a1f65a"
   },
   "outputs": [],
   "source": [
    "# Normalized (by the number of interviewed people in each class) confusion matrix\n",
    "cm = confusion_matrix(y_test, y_pred)\n",
    "cm = cm.astype('float') / cm.sum(axis=0)\n",
    "\n",
    "_=sns.heatmap(cm, annot=True, cmap='Blues', fmt='.2f')\n",
    "_=plt.xlabel('Predicted')\n",
    "_=plt.ylabel('True')\n",
    "_=plt.title(\"Confusion Matrix True App success vs predicted\")"
   ]
  },
  {
   "cell_type": "markdown",
   "metadata": {
    "colab_type": "text",
    "id": "S3kEppcLepCr"
   },
   "source": [
    "### What is the best probability threshold to decide whether an App is successful or not?"
   ]
  },
  {
   "cell_type": "code",
   "execution_count": null,
   "metadata": {
    "colab": {
     "base_uri": "https://localhost:8080/",
     "height": 34
    },
    "colab_type": "code",
    "id": "mWTQrF5tepCs",
    "outputId": "19f00319-8acb-4e42-a5d9-fc1f2446c2e2"
   },
   "outputs": [],
   "source": [
    "best_model.predict(X_test)"
   ]
  },
  {
   "cell_type": "code",
   "execution_count": null,
   "metadata": {
    "colab": {},
    "colab_type": "code",
    "id": "6fx0SmgFepC1"
   },
   "outputs": [],
   "source": [
    "# Predict the probabilities of being successful\n",
    "y_pred_test = best_model.predict_proba(X_test)"
   ]
  },
  {
   "cell_type": "code",
   "execution_count": null,
   "metadata": {
    "colab": {
     "base_uri": "https://localhost:8080/",
     "height": 227
    },
    "colab_type": "code",
    "id": "qpqJbRI9epC7",
    "outputId": "afd99b6f-e44e-4c25-bf2f-2a57e326c35b"
   },
   "outputs": [],
   "source": [
    "_=plt.figure(figsize=(10,3))\n",
    "_=plt.scatter(range(0, len(y_pred_test[:,1])), np.sort(y_test.as_matrix()), color='b')\n",
    "_=plt.scatter(range(0, len(y_pred_test[:,1])), np.sort(y_pred_test[:,1]), color='r')\n",
    "_=plt.title(\"Predicted probabilities of app success for the test dataset\")"
   ]
  },
  {
   "cell_type": "code",
   "execution_count": null,
   "metadata": {
    "colab": {
     "base_uri": "https://localhost:8080/",
     "height": 295
    },
    "colab_type": "code",
    "id": "TnvjksyYepDI",
    "outputId": "0dc4da5c-5277-4a9a-fddd-6e13b0940f01"
   },
   "outputs": [],
   "source": [
    "# Visualize how the precision and the recall changes when moving the threshold\n",
    "precision, recall, thresholds = precision_recall_curve(y_test, y_pred_test[:, 1]) \n",
    "pr_auc = metrics.auc(recall, precision)\n",
    "\n",
    "plt.title(\"Precision-Recall vs Threshold Chart\")\n",
    "plt.plot(thresholds, precision[: -1], \"b--\", label=\"Precision\")\n",
    "plt.plot(thresholds, recall[: -1], \"r--\", label=\"Recall\")\n",
    "plt.ylabel(\"Precision, Recall\")\n",
    "plt.xlabel(\"Threshold\")\n",
    "plt.legend(loc=\"lower left\")\n",
    "_=plt.ylim([0,1])"
   ]
  },
  {
   "cell_type": "code",
   "execution_count": null,
   "metadata": {
    "colab": {},
    "colab_type": "code",
    "id": "nJvdr2VckZ9a"
   },
   "outputs": [],
   "source": []
  },
  {
   "cell_type": "markdown",
   "metadata": {
    "colab_type": "text",
    "id": "8697gy9CepDP"
   },
   "source": [
    "### What is the area under the curve according to the optimal threshold?\n",
    "\n",
    "![ROC_curve](ROC_curves.png \"Title\")"
   ]
  },
  {
   "cell_type": "code",
   "execution_count": null,
   "metadata": {
    "colab": {},
    "colab_type": "code",
    "id": "h1vMuc7LepDR"
   },
   "outputs": [],
   "source": [
    "fpr, tpr, thresholds = metrics.roc_curve(y_test, y_pred_test[:, 1])"
   ]
  },
  {
   "cell_type": "code",
   "execution_count": null,
   "metadata": {
    "colab": {
     "base_uri": "https://localhost:8080/",
     "height": 516
    },
    "colab_type": "code",
    "id": "zdgttsiEepDV",
    "outputId": "6104a2e5-eefb-4910-dcaf-4afab59512ce"
   },
   "outputs": [],
   "source": [
    "auc = roc_auc_score(y_test, y_pred_test[:, 1])\n",
    "print('AUC: %.3f' % auc)\n",
    "\n",
    "# calculate roc curve\n",
    "fpr, tpr, thresholds = roc_curve(y_test, y_pred_test[:, 1])\n",
    "\n",
    "# plot random case\n",
    "_=plt.figure(figsize=(10, 8))\n",
    "_=plt.plot([0, 1], [0, 1], linestyle='--')\n",
    "\n",
    "# plot the roc curve for the model\n",
    "_=plt.plot(fpr, tpr, marker='.')\n",
    "_=plt.title(\"ROC curve for correct prediction of App Success with log regression\")"
   ]
  },
  {
   "cell_type": "code",
   "execution_count": null,
   "metadata": {
    "colab": {
     "base_uri": "https://localhost:8080/",
     "height": 499
    },
    "colab_type": "code",
    "id": "QdzT_oPVepDn",
    "outputId": "d86ab16a-90ab-40a1-f391-e595907e6d28"
   },
   "outputs": [],
   "source": [
    "_=plt.figure(figsize=(10, 8))\n",
    "_=plt.scatter(range(0, len(thresholds)), thresholds)\n",
    "_=plt.title('Thresholds over the probability distributions to calculate the integral')"
   ]
  },
  {
   "cell_type": "code",
   "execution_count": null,
   "metadata": {
    "colab": {},
    "colab_type": "code",
    "id": "k_CHUTD8epDr"
   },
   "outputs": [],
   "source": []
  },
  {
   "cell_type": "code",
   "execution_count": null,
   "metadata": {
    "colab": {},
    "colab_type": "code",
    "id": "ANVY3Pv7i0r6"
   },
   "outputs": [],
   "source": []
  },
  {
   "cell_type": "code",
   "execution_count": null,
   "metadata": {
    "colab": {},
    "colab_type": "code",
    "id": "UyZINfB1i0sA"
   },
   "outputs": [],
   "source": []
  }
 ],
 "metadata": {
  "colab": {
   "name": "Copy of 170619_GJG Logistic_Regression_Model_training-App market App success.ipynb",
   "provenance": [],
   "version": "0.3.2"
  },
  "kernelspec": {
   "display_name": "Python 3",
   "language": "python",
   "name": "python3"
  },
  "language_info": {
   "codemirror_mode": {
    "name": "ipython",
    "version": 3
   },
   "file_extension": ".py",
   "mimetype": "text/x-python",
   "name": "python",
   "nbconvert_exporter": "python",
   "pygments_lexer": "ipython3",
   "version": "3.7.2"
  }
 },
 "nbformat": 4,
 "nbformat_minor": 1
}
